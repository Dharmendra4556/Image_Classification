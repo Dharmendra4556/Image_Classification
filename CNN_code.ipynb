{
 "cells": [
  {
   "cell_type": "code",
   "execution_count": 1,
   "id": "6567a355",
   "metadata": {},
   "outputs": [],
   "source": [
    "import tensorflow as tf\n",
    "import keras"
   ]
  },
  {
   "cell_type": "code",
   "execution_count": 2,
   "id": "6c258668",
   "metadata": {},
   "outputs": [],
   "source": [
    "from keras.preprocessing.image import ImageDataGenerator"
   ]
  },
  {
   "cell_type": "code",
   "execution_count": 3,
   "id": "2de19fb5",
   "metadata": {},
   "outputs": [],
   "source": [
    "train_datagen=ImageDataGenerator(rescale=1/255,shear_range=0.2,zoom_range=0.2)"
   ]
  },
  {
   "cell_type": "code",
   "execution_count": 4,
   "id": "a1ea7480",
   "metadata": {},
   "outputs": [
    {
     "name": "stdout",
     "output_type": "stream",
     "text": [
      "Found 8048 images belonging to 2 classes.\n"
     ]
    }
   ],
   "source": [
    "training_set=train_datagen.flow_from_directory('dataset/training_set',target_size=(64,64),class_mode='binary')"
   ]
  },
  {
   "cell_type": "code",
   "execution_count": 5,
   "id": "1b459a9d",
   "metadata": {},
   "outputs": [
    {
     "data": {
      "text/plain": [
       "{'cats': 0, 'dogs': 1}"
      ]
     },
     "execution_count": 5,
     "metadata": {},
     "output_type": "execute_result"
    }
   ],
   "source": [
    "training_set.class_indices"
   ]
  },
  {
   "cell_type": "code",
   "execution_count": 6,
   "id": "f022ffd0",
   "metadata": {},
   "outputs": [
    {
     "name": "stdout",
     "output_type": "stream",
     "text": [
      "Found 2000 images belonging to 2 classes.\n"
     ]
    }
   ],
   "source": [
    "test_datagen=ImageDataGenerator(rescale=1/255)\n",
    "\n",
    "test_set=test_datagen.flow_from_directory('dataset/test_set',target_size=(64,64),class_mode='binary')"
   ]
  },
  {
   "cell_type": "markdown",
   "id": "dfec9f2b",
   "metadata": {},
   "source": [
    "# Modeling - Convolution Neural Network\n",
    "**Initializing the CNN**"
   ]
  },
  {
   "cell_type": "code",
   "execution_count": 7,
   "id": "e5eecb06",
   "metadata": {},
   "outputs": [],
   "source": [
    "from keras.models import Sequential\n",
    "classifier=Sequential()"
   ]
  },
  {
   "cell_type": "markdown",
   "id": "5db04f7c",
   "metadata": {},
   "source": [
    "**Step 1 - Convlution**"
   ]
  },
  {
   "cell_type": "code",
   "execution_count": 8,
   "id": "643761fe",
   "metadata": {},
   "outputs": [],
   "source": [
    "from keras.layers import Conv2D\n",
    "classifier.add(Conv2D(input_shape=[64,64,3],filters=32,kernel_size=3,activation='relu'))"
   ]
  },
  {
   "cell_type": "markdown",
   "id": "06a42e1d",
   "metadata": {},
   "source": [
    "**Step 2 - Max Pooling**"
   ]
  },
  {
   "cell_type": "code",
   "execution_count": 9,
   "id": "cea31115",
   "metadata": {},
   "outputs": [],
   "source": [
    "from keras.layers import MaxPooling2D\n",
    "classifier.add(MaxPooling2D(pool_size=2,strides=2))"
   ]
  },
  {
   "cell_type": "markdown",
   "id": "9130d469",
   "metadata": {},
   "source": [
    "**Step 3 - Flattening**"
   ]
  },
  {
   "cell_type": "code",
   "execution_count": 10,
   "id": "f3010d5a",
   "metadata": {},
   "outputs": [],
   "source": [
    "from keras.layers import Flatten\n",
    "classifier.add(Flatten())"
   ]
  },
  {
   "cell_type": "markdown",
   "id": "485e3a23",
   "metadata": {},
   "source": [
    "**Step 4 - Full Connection**"
   ]
  },
  {
   "cell_type": "code",
   "execution_count": 11,
   "id": "c0dac6c7",
   "metadata": {},
   "outputs": [],
   "source": [
    "from keras.layers import Dense\n",
    "#hidden layer with 128 neurons\n",
    "classifier.add(Dense(units=128,activation='relu'))\n",
    "#output layer with one 1 neuron\n",
    "classifier.add(Dense(units=1,activation='sigmoid'))"
   ]
  },
  {
   "cell_type": "markdown",
   "id": "8472ad3e",
   "metadata": {},
   "source": [
    "**Training the CNN model with train data & Testing the model with test data**"
   ]
  },
  {
   "cell_type": "code",
   "execution_count": 12,
   "id": "30a291f3",
   "metadata": {},
   "outputs": [],
   "source": [
    "classifier.compile(optimizer='adam',loss='binary_crossentropy',metrics=['accuracy'])"
   ]
  },
  {
   "cell_type": "code",
   "execution_count": 13,
   "id": "10d5eed1",
   "metadata": {
    "scrolled": true
   },
   "outputs": [
    {
     "name": "stdout",
     "output_type": "stream",
     "text": [
      "Epoch 1/25\n",
      "252/252 [==============================] - 64s 251ms/step - loss: 0.7358 - accuracy: 0.6004 - val_loss: 0.6164 - val_accuracy: 0.6625\n",
      "Epoch 2/25\n",
      "252/252 [==============================] - 52s 206ms/step - loss: 0.5907 - accuracy: 0.6912 - val_loss: 0.5927 - val_accuracy: 0.6795\n",
      "Epoch 3/25\n",
      "252/252 [==============================] - 49s 195ms/step - loss: 0.5573 - accuracy: 0.7130 - val_loss: 0.5631 - val_accuracy: 0.7095\n",
      "Epoch 4/25\n",
      "252/252 [==============================] - 49s 196ms/step - loss: 0.5390 - accuracy: 0.7266 - val_loss: 0.6201 - val_accuracy: 0.6770\n",
      "Epoch 5/25\n",
      "252/252 [==============================] - 55s 219ms/step - loss: 0.5155 - accuracy: 0.7425 - val_loss: 0.5316 - val_accuracy: 0.7385\n",
      "Epoch 6/25\n",
      "252/252 [==============================] - 54s 216ms/step - loss: 0.5016 - accuracy: 0.7548 - val_loss: 0.5231 - val_accuracy: 0.7440\n",
      "Epoch 7/25\n",
      "252/252 [==============================] - 53s 209ms/step - loss: 0.4807 - accuracy: 0.7694 - val_loss: 0.5256 - val_accuracy: 0.7390\n",
      "Epoch 8/25\n",
      "252/252 [==============================] - 53s 211ms/step - loss: 0.4615 - accuracy: 0.7791 - val_loss: 0.5339 - val_accuracy: 0.7475\n",
      "Epoch 9/25\n",
      "252/252 [==============================] - 52s 205ms/step - loss: 0.4461 - accuracy: 0.7919 - val_loss: 0.5375 - val_accuracy: 0.7485\n",
      "Epoch 10/25\n",
      "252/252 [==============================] - 51s 201ms/step - loss: 0.4223 - accuracy: 0.8070 - val_loss: 0.5426 - val_accuracy: 0.7475\n",
      "Epoch 11/25\n",
      "252/252 [==============================] - 51s 201ms/step - loss: 0.4121 - accuracy: 0.8134 - val_loss: 0.5220 - val_accuracy: 0.7550\n",
      "Epoch 12/25\n",
      "252/252 [==============================] - 51s 202ms/step - loss: 0.3911 - accuracy: 0.8238 - val_loss: 0.5347 - val_accuracy: 0.7620\n",
      "Epoch 13/25\n",
      "252/252 [==============================] - 53s 211ms/step - loss: 0.3730 - accuracy: 0.8306 - val_loss: 0.6286 - val_accuracy: 0.7350\n",
      "Epoch 14/25\n",
      "252/252 [==============================] - 52s 207ms/step - loss: 0.3599 - accuracy: 0.8432 - val_loss: 0.6075 - val_accuracy: 0.7390\n",
      "Epoch 15/25\n",
      "252/252 [==============================] - 56s 221ms/step - loss: 0.3293 - accuracy: 0.8551 - val_loss: 0.6468 - val_accuracy: 0.7590\n",
      "Epoch 16/25\n",
      "252/252 [==============================] - 53s 210ms/step - loss: 0.3053 - accuracy: 0.8638 - val_loss: 0.6717 - val_accuracy: 0.7380\n",
      "Epoch 17/25\n",
      "252/252 [==============================] - 58s 232ms/step - loss: 0.3012 - accuracy: 0.8728 - val_loss: 0.6399 - val_accuracy: 0.7480\n",
      "Epoch 18/25\n",
      "252/252 [==============================] - 59s 235ms/step - loss: 0.2788 - accuracy: 0.8821 - val_loss: 0.6627 - val_accuracy: 0.7355\n",
      "Epoch 19/25\n",
      "252/252 [==============================] - 67s 265ms/step - loss: 0.2521 - accuracy: 0.8960 - val_loss: 0.6766 - val_accuracy: 0.7615\n",
      "Epoch 20/25\n",
      "252/252 [==============================] - 64s 256ms/step - loss: 0.2343 - accuracy: 0.9037 - val_loss: 0.7409 - val_accuracy: 0.7435\n",
      "Epoch 21/25\n",
      "252/252 [==============================] - 62s 244ms/step - loss: 0.2198 - accuracy: 0.9103 - val_loss: 0.7441 - val_accuracy: 0.7595\n",
      "Epoch 22/25\n",
      "252/252 [==============================] - 56s 221ms/step - loss: 0.2068 - accuracy: 0.9150 - val_loss: 0.7648 - val_accuracy: 0.7535\n",
      "Epoch 23/25\n",
      "252/252 [==============================] - 55s 217ms/step - loss: 0.1860 - accuracy: 0.9278 - val_loss: 0.8916 - val_accuracy: 0.7320\n",
      "Epoch 24/25\n",
      "252/252 [==============================] - 60s 238ms/step - loss: 0.1736 - accuracy: 0.9314 - val_loss: 0.8058 - val_accuracy: 0.7640\n",
      "Epoch 25/25\n",
      "252/252 [==============================] - 57s 228ms/step - loss: 0.1582 - accuracy: 0.9370 - val_loss: 0.8678 - val_accuracy: 0.7445\n"
     ]
    },
    {
     "data": {
      "text/plain": [
       "<keras.callbacks.History at 0x218103e5d50>"
      ]
     },
     "execution_count": 13,
     "metadata": {},
     "output_type": "execute_result"
    }
   ],
   "source": [
    "classifier.fit(x=training_set,validation_data=test_set,epochs=25)"
   ]
  },
  {
   "cell_type": "markdown",
   "id": "e34b34ff",
   "metadata": {},
   "source": [
    "# Evaluation\n",
    "- **Making a single prediction**"
   ]
  },
  {
   "cell_type": "code",
   "execution_count": 14,
   "id": "4f9d9f17",
   "metadata": {},
   "outputs": [],
   "source": [
    "import numpy as np\n",
    "from PIL import Image"
   ]
  },
  {
   "cell_type": "code",
   "execution_count": 36,
   "id": "e3c6fa8d",
   "metadata": {},
   "outputs": [
    {
     "name": "stdout",
     "output_type": "stream",
     "text": [
      "1/1 [==============================] - 0s 27ms/step\n",
      "Dog\n"
     ]
    }
   ],
   "source": [
    "#load the data\n",
    "test_image=Image.open('dataset/single_prediction/cat_or_dog_3.jpg')\n",
    "\n",
    "#Data Preprocessing\n",
    "test_image=test_image.resize((64,64))\n",
    "test_image=np.array(test_image)\n",
    "test_image=np.expand_dims(test_image,axis=0)\n",
    "\n",
    "#prediction\n",
    "result=classifier.predict(test_image)\n",
    "\n",
    "#Evaluation\n",
    "if result[0][0] == 0:\n",
    "    print('Cat')\n",
    "else:\n",
    "    print('Dog')"
   ]
  },
  {
   "cell_type": "code",
   "execution_count": null,
   "id": "0fef2dbc",
   "metadata": {},
   "outputs": [],
   "source": [
    "\n"
   ]
  }
 ],
 "metadata": {
  "kernelspec": {
   "display_name": "Python 3 (ipykernel)",
   "language": "python",
   "name": "python3"
  },
  "language_info": {
   "codemirror_mode": {
    "name": "ipython",
    "version": 3
   },
   "file_extension": ".py",
   "mimetype": "text/x-python",
   "name": "python",
   "nbconvert_exporter": "python",
   "pygments_lexer": "ipython3",
   "version": "3.11.4"
  }
 },
 "nbformat": 4,
 "nbformat_minor": 5
}
